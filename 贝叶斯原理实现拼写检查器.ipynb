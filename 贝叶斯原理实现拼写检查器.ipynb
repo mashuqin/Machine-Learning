{
 "cells": [
  {
   "cell_type": "markdown",
   "metadata": {
    "collapsed": true
   },
   "source": [
    "### 贝叶斯要解决的问题：逆向概率"
   ]
  },
  {
   "cell_type": "markdown",
   "metadata": {},
   "source": [
    "P（A|B）=P(B|A)P(A)/P(B)"
   ]
  },
  {
   "cell_type": "markdown",
   "metadata": {},
   "source": [
    "先验概率：P(A)"
   ]
  },
  {
   "cell_type": "markdown",
   "metadata": {},
   "source": [
    "## 垃圾邮件过滤实例："
   ]
  },
  {
   "cell_type": "markdown",
   "metadata": {},
   "source": [
    "P（h+|D）=P（h+）P（D|h+）/P（D）   \n",
    "P（h-|D）=P（h-）P（D|h-）/P（D）"
   ]
  },
  {
   "cell_type": "markdown",
   "metadata": {},
   "source": [
    "P（D|h+）=P（d1,d2,...,dn|h+）=P（d1|h+）P（d2|d1,h+）P（d3|d2,d1,h+）...   "
   ]
  },
  {
   "cell_type": "markdown",
   "metadata": {},
   "source": [
    "朴素贝叶斯假设特征之间独立、互不影响，所以：   \n",
    "P（D|h+）=P（d1|h+）P（d2|h+）P（d3|h+）..."
   ]
  },
  {
   "cell_type": "markdown",
   "metadata": {},
   "source": [
    "# 实例：贝叶斯实现拼写检查器"
   ]
  },
  {
   "cell_type": "markdown",
   "metadata": {},
   "source": [
    "### 求解：argmaxc P（c|w）->argmaxc P（w|c）P（c）/P（w）###   \n",
    "\n",
    "* P(c),文章中出现一个正确拼写词c的概率，也就是，在英文文章中，c出现的概率有多大  \n",
    "* P(w|c),在用户想输入c的情况下，敲成w的概率，也就是，用户会有多大概率将c敲错成w  \n",
    "* argmaxc，用来枚举所有可能的c并且选取概率最大的"
   ]
  },
  {
   "cell_type": "code",
   "execution_count": 19,
   "metadata": {
    "collapsed": true
   },
   "outputs": [],
   "source": [
    "import re,collections\n",
    "\n",
    "#把语料库中的单词都抽取出来，转成小写，去除单词中的特殊符号\n",
    "def words(text): return re.findall(\"[a-z]+\",text.lower())\n",
    "\n",
    "def train(features):\n",
    "    #lambda:1代表词频很小的\n",
    "    model=collections.defaultdict(lambda:1)\n",
    "    for f in features:\n",
    "        model[f]+=1\n",
    "    return model\n",
    "\n",
    "NWORDS=train(words(open(\"big.txt\").read()))"
   ]
  },
  {
   "cell_type": "markdown",
   "metadata": {},
   "source": [
    "### 编辑距离： ###    \n",
    "\n",
    "两个词之间的编辑距离定义为使用了几次插入（在词中间插入一个单字母）、删除（删除一个单字母）、交换（交换相邻两个字母）、替换（字母替换）的操作，使得从一个词变成另一个词"
   ]
  },
  {
   "cell_type": "code",
   "execution_count": 49,
   "metadata": {
    "collapsed": true
   },
   "outputs": [],
   "source": [
    "#返回所有与单词w编辑距离为1的集合\n",
    "def edits1(word):\n",
    "    n=len(word)\n",
    "    return set([word[0:i]+word[i+1:] for i in range(n)]+                            #删除一个字母\n",
    "              [word[0:i]+word[i+1]+word[i]+word[i+2:]  for i in range(n-1)]+       #相邻两个字母交换\n",
    "               [word[0:i]+c+word[i+1:]  for i in range(n) for c in alphabet]+       #替换一个字母\n",
    "               [word[0:i]+c+word[i:]  for i in range(n+1) for c in alphabet]       #插入一个字母\n",
    "              )"
   ]
  },
  {
   "cell_type": "code",
   "execution_count": 50,
   "metadata": {},
   "outputs": [
    {
     "name": "stdout",
     "output_type": "stream",
     "text": [
      "494\n"
     ]
    }
   ],
   "source": [
    "#与“something”距离为1的单词有494个\n",
    "print(len(edits1(\"something\")))"
   ]
  },
  {
   "cell_type": "code",
   "execution_count": 51,
   "metadata": {
    "collapsed": true
   },
   "outputs": [],
   "source": [
    "#返回所有与单词w编辑距离为2的集合\n",
    "#在这些编辑距离小于2 的词中间，只把那些正确的词作为候选词\n",
    "def edits2(word):\n",
    "    return set(e2 for e1 in edits1(word) for e2 in edits1(e1))"
   ]
  },
  {
   "cell_type": "code",
   "execution_count": 52,
   "metadata": {},
   "outputs": [
    {
     "name": "stdout",
     "output_type": "stream",
     "text": [
      "114324\n"
     ]
    }
   ],
   "source": [
    "#与“something”距离为2的单词有114324个\n",
    "print(len(edits2(\"something\")))"
   ]
  },
  {
   "cell_type": "markdown",
   "metadata": {},
   "source": [
    "优化：只将正确的单词作为候选词（不然把那些错误单词也加入的话、候选词太多了）"
   ]
  },
  {
   "cell_type": "code",
   "execution_count": 53,
   "metadata": {
    "collapsed": true
   },
   "outputs": [],
   "source": [
    "def known_edits2(word):\n",
    "    return set(e2 for e1 in edits1(word) for e2 in edits1(e1) if e2 in NWORDS)"
   ]
  },
  {
   "cell_type": "code",
   "execution_count": 55,
   "metadata": {},
   "outputs": [
    {
     "name": "stdout",
     "output_type": "stream",
     "text": [
      "{'soothing', 'something', 'seething', 'smoothing'}\n"
     ]
    }
   ],
   "source": [
    "#优化后、与“something”距离为2的单词仅剩4个（含自身）\n",
    "print(len(known_edits2(\"something\")))\n",
    "\n",
    "print(known_edits2(\"something\"))"
   ]
  },
  {
   "cell_type": "code",
   "execution_count": 62,
   "metadata": {},
   "outputs": [],
   "source": [
    "def known(words):\n",
    "    return set(w for w in words if w in NWORDS)\n",
    "\n",
    "def correct(word):\n",
    "    candidates=known([word]) or known(edits1(word)) or known_edits2(word) or [word]\n",
    "    return max(candidates,key=lambda w:NWORDS[w])"
   ]
  },
  {
   "cell_type": "code",
   "execution_count": 65,
   "metadata": {},
   "outputs": [
    {
     "name": "stdout",
     "output_type": "stream",
     "text": [
      "something\n",
      "——————————————————————————————\n",
      "apply\n",
      "——————————————————————————————\n"
     ]
    }
   ],
   "source": [
    "print(correct(\"somthing\"))\n",
    "print(\"——\"*15)\n",
    "print(correct(\"appli\"))\n",
    "print(\"——\"*15)"
   ]
  },
  {
   "cell_type": "code",
   "execution_count": null,
   "metadata": {
    "collapsed": true
   },
   "outputs": [],
   "source": []
  }
 ],
 "metadata": {
  "kernelspec": {
   "display_name": "Python 3",
   "language": "python",
   "name": "python3"
  },
  "language_info": {
   "codemirror_mode": {
    "name": "ipython",
    "version": 3
   },
   "file_extension": ".py",
   "mimetype": "text/x-python",
   "name": "python",
   "nbconvert_exporter": "python",
   "pygments_lexer": "ipython3",
   "version": "3.6.3"
  }
 },
 "nbformat": 4,
 "nbformat_minor": 2
}
