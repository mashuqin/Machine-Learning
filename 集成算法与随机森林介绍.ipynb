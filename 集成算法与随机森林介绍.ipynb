{
 "cells": [
  {
   "cell_type": "markdown",
   "metadata": {},
   "source": [
    "# 14.1  Ensemble learning"
   ]
  },
  {
   "cell_type": "markdown",
   "metadata": {},
   "source": [
    "### Bagging：训练多个分类器取平均（并行）  \n",
    "### Boosting：从弱学习器开始加强，通过加权进行训练  \n",
    "### Stacking：聚合多个分类与回归模型（可以分阶段进行）"
   ]
  },
  {
   "cell_type": "markdown",
   "metadata": {},
   "source": [
    "# 14.2  Bagging模型（并行训练一堆分类器，取平均）   "
   ]
  },
  {
   "cell_type": "markdown",
   "metadata": {},
   "source": [
    "### 典型的：随机森林（数据随机采样，特征选择随机） "
   ]
  },
  {
   "cell_type": "markdown",
   "metadata": {},
   "source": [
    "随机森林优势：  \n",
    "  能够处理很高维度数据，并且不用做特征选择   \n",
    "  在训练完后，能够给出哪些特征重要   \n",
    "  容易做成并行化方法，速度较快   \n",
    "  可以进行可视化展示，便于分析"
   ]
  },
  {
   "cell_type": "markdown",
   "metadata": {},
   "source": [
    "### 理论上，树越多越好，但超过一定数量时会上下浮动（一般地100-200个树）"
   ]
  },
  {
   "cell_type": "markdown",
   "metadata": {},
   "source": [
    "# 14.3  Boosting（串行，加入一棵树，要比原来强）"
   ]
  },
  {
   "cell_type": "markdown",
   "metadata": {},
   "source": [
    "###  典型代表：Adaboost、Xgboost   "
   ]
  },
  {
   "cell_type": "markdown",
   "metadata": {},
   "source": [
    "Adaboost会根据前一次的分类效果调整数据权重   \n",
    "即：如果这次分错了，那下一次给它更大的权重   \n",
    "最终结果：每个分类器根据自身的准确性确定各自的权重，再合体"
   ]
  },
  {
   "cell_type": "markdown",
   "metadata": {},
   "source": [
    "### Xgboost很重要！！！"
   ]
  },
  {
   "cell_type": "markdown",
   "metadata": {},
   "source": [
    "#  14.4  Stacking（堆叠多种分类器）"
   ]
  },
  {
   "cell_type": "markdown",
   "metadata": {},
   "source": [
    "### 分阶段：第一阶段得出各自结果，第二阶段再用前一阶段结果训练"
   ]
  },
  {
   "cell_type": "markdown",
   "metadata": {},
   "source": [
    "堆叠算法确实能提升准确率，但是以速度为代价   \n",
    "可以用于竞赛或论文"
   ]
  }
 ],
 "metadata": {
  "kernelspec": {
   "display_name": "Python 3",
   "language": "python",
   "name": "python3"
  },
  "language_info": {
   "codemirror_mode": {
    "name": "ipython",
    "version": 3
   },
   "file_extension": ".py",
   "mimetype": "text/x-python",
   "name": "python",
   "nbconvert_exporter": "python",
   "pygments_lexer": "ipython3",
   "version": "3.6.3"
  }
 },
 "nbformat": 4,
 "nbformat_minor": 2
}
