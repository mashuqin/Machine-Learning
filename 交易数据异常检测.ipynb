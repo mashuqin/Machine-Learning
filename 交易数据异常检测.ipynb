{
 "cells": [
  {
   "cell_type": "code",
   "execution_count": 9,
   "metadata": {},
   "outputs": [
    {
     "name": "stdout",
     "output_type": "stream",
     "text": [
      "   Time        V1        V2        V3        V4        V5        V6        V7  \\\n",
      "0   0.0 -1.359807 -0.072781  2.536347  1.378155 -0.338321  0.462388  0.239599   \n",
      "1   0.0  1.191857  0.266151  0.166480  0.448154  0.060018 -0.082361 -0.078803   \n",
      "2   1.0 -1.358354 -1.340163  1.773209  0.379780 -0.503198  1.800499  0.791461   \n",
      "\n",
      "         V8        V9  ...         V21       V22       V23       V24  \\\n",
      "0  0.098698  0.363787  ...   -0.018307  0.277838 -0.110474  0.066928   \n",
      "1  0.085102 -0.255425  ...   -0.225775 -0.638672  0.101288 -0.339846   \n",
      "2  0.247676 -1.514654  ...    0.247998  0.771679  0.909412 -0.689281   \n",
      "\n",
      "        V25       V26       V27       V28  Amount  Class  \n",
      "0  0.128539 -0.189115  0.133558 -0.021053  149.62      0  \n",
      "1  0.167170  0.125895 -0.008983  0.014724    2.69      0  \n",
      "2 -0.327642 -0.139097 -0.055353 -0.059752  378.66      0  \n",
      "\n",
      "[3 rows x 31 columns]\n"
     ]
    }
   ],
   "source": [
    "import pandas as pd\n",
    "import numpy as np\n",
    "import matplotlib.pyplot as plt\n",
    "import os\n",
    "%matplotlib inline\n",
    "\n",
    "filepath=\"creditcard.csv\"\n",
    "pwd=os.getcwd()\n",
    "os.chdir(os.path.dirname(filepath))\n",
    "df = pd.read_csv(os.path.basename(filepath))\n",
    "os.chdir(pwd)\n",
    "print(df.head(3))"
   ]
  },
  {
   "cell_type": "markdown",
   "metadata": {},
   "source": [
    "### 异常检测，属分类任务，用逻辑回归（二分类，0/1）"
   ]
  },
  {
   "cell_type": "code",
   "execution_count": 4,
   "metadata": {},
   "outputs": [
    {
     "data": {
      "text/plain": [
       "<matplotlib.text.Text at 0x97aa080>"
      ]
     },
     "execution_count": 4,
     "metadata": {},
     "output_type": "execute_result"
    },
    {
     "data": {
      "image/png": "[encoded data removed]",
      "text/plain": [
       "<matplotlib.figure.Figure at 0x976bcf8>"
      ]
     },
     "metadata": {},
     "output_type": "display_data"
    }
   ],
   "source": [
    "count_classes=pd.value_counts(df[\"Class\"],sort=True).sort_index()\n",
    "count_classes.plot(kind=\"bar\")\n",
    "plt.xlabel(\"Class\")\n",
    "plt.ylabel(\"Frequency\")"
   ]
  },
  {
   "cell_type": "markdown",
   "metadata": {},
   "source": [
    "## 对于某些列，值差异过大，需做标准化/归一化（用sklearn）"
   ]
  },
  {
   "cell_type": "code",
   "execution_count": 10,
   "metadata": {},
   "outputs": [
    {
     "data": {
      "text/html": [
       "<div>\n",
       "<style>\n",
       "    .dataframe thead tr:only-child th {\n",
       "        text-align: right;\n",
       "    }\n",
       "\n",
       "    .dataframe thead th {\n",
       "        text-align: left;\n",
       "    }\n",
       "\n",
       "    .dataframe tbody tr th {\n",
       "        vertical-align: top;\n",
       "    }\n",
       "</style>\n",
       "<table border=\"1\" class=\"dataframe\">\n",
       "  <thead>\n",
       "    <tr style=\"text-align: right;\">\n",
       "      <th></th>\n",
       "      <th>V1</th>\n",
       "      <th>V2</th>\n",
       "      <th>V3</th>\n",
       "      <th>V4</th>\n",
       "      <th>V5</th>\n",
       "      <th>V6</th>\n",
       "      <th>V7</th>\n",
       "      <th>V8</th>\n",
       "      <th>V9</th>\n",
       "      <th>V10</th>\n",
       "      <th>...</th>\n",
       "      <th>V21</th>\n",
       "      <th>V22</th>\n",
       "      <th>V23</th>\n",
       "      <th>V24</th>\n",
       "      <th>V25</th>\n",
       "      <th>V26</th>\n",
       "      <th>V27</th>\n",
       "      <th>V28</th>\n",
       "      <th>Class</th>\n",
       "      <th>normAmount</th>\n",
       "    </tr>\n",
       "  </thead>\n",
       "  <tbody>\n",
       "    <tr>\n",
       "      <th>0</th>\n",
       "      <td>-1.359807</td>\n",
       "      <td>-0.072781</td>\n",
       "      <td>2.536347</td>\n",
       "      <td>1.378155</td>\n",
       "      <td>-0.338321</td>\n",
       "      <td>0.462388</td>\n",
       "      <td>0.239599</td>\n",
       "      <td>0.098698</td>\n",
       "      <td>0.363787</td>\n",
       "      <td>0.090794</td>\n",
       "      <td>...</td>\n",
       "      <td>-0.018307</td>\n",
       "      <td>0.277838</td>\n",
       "      <td>-0.110474</td>\n",
       "      <td>0.066928</td>\n",
       "      <td>0.128539</td>\n",
       "      <td>-0.189115</td>\n",
       "      <td>0.133558</td>\n",
       "      <td>-0.021053</td>\n",
       "      <td>0</td>\n",
       "      <td>0.244964</td>\n",
       "    </tr>\n",
       "    <tr>\n",
       "      <th>1</th>\n",
       "      <td>1.191857</td>\n",
       "      <td>0.266151</td>\n",
       "      <td>0.166480</td>\n",
       "      <td>0.448154</td>\n",
       "      <td>0.060018</td>\n",
       "      <td>-0.082361</td>\n",
       "      <td>-0.078803</td>\n",
       "      <td>0.085102</td>\n",
       "      <td>-0.255425</td>\n",
       "      <td>-0.166974</td>\n",
       "      <td>...</td>\n",
       "      <td>-0.225775</td>\n",
       "      <td>-0.638672</td>\n",
       "      <td>0.101288</td>\n",
       "      <td>-0.339846</td>\n",
       "      <td>0.167170</td>\n",
       "      <td>0.125895</td>\n",
       "      <td>-0.008983</td>\n",
       "      <td>0.014724</td>\n",
       "      <td>0</td>\n",
       "      <td>-0.342475</td>\n",
       "    </tr>\n",
       "    <tr>\n",
       "      <th>2</th>\n",
       "      <td>-1.358354</td>\n",
       "      <td>-1.340163</td>\n",
       "      <td>1.773209</td>\n",
       "      <td>0.379780</td>\n",
       "      <td>-0.503198</td>\n",
       "      <td>1.800499</td>\n",
       "      <td>0.791461</td>\n",
       "      <td>0.247676</td>\n",
       "      <td>-1.514654</td>\n",
       "      <td>0.207643</td>\n",
       "      <td>...</td>\n",
       "      <td>0.247998</td>\n",
       "      <td>0.771679</td>\n",
       "      <td>0.909412</td>\n",
       "      <td>-0.689281</td>\n",
       "      <td>-0.327642</td>\n",
       "      <td>-0.139097</td>\n",
       "      <td>-0.055353</td>\n",
       "      <td>-0.059752</td>\n",
       "      <td>0</td>\n",
       "      <td>1.160686</td>\n",
       "    </tr>\n",
       "    <tr>\n",
       "      <th>3</th>\n",
       "      <td>-0.966272</td>\n",
       "      <td>-0.185226</td>\n",
       "      <td>1.792993</td>\n",
       "      <td>-0.863291</td>\n",
       "      <td>-0.010309</td>\n",
       "      <td>1.247203</td>\n",
       "      <td>0.237609</td>\n",
       "      <td>0.377436</td>\n",
       "      <td>-1.387024</td>\n",
       "      <td>-0.054952</td>\n",
       "      <td>...</td>\n",
       "      <td>-0.108300</td>\n",
       "      <td>0.005274</td>\n",
       "      <td>-0.190321</td>\n",
       "      <td>-1.175575</td>\n",
       "      <td>0.647376</td>\n",
       "      <td>-0.221929</td>\n",
       "      <td>0.062723</td>\n",
       "      <td>0.061458</td>\n",
       "      <td>0</td>\n",
       "      <td>0.140534</td>\n",
       "    </tr>\n",
       "    <tr>\n",
       "      <th>4</th>\n",
       "      <td>-1.158233</td>\n",
       "      <td>0.877737</td>\n",
       "      <td>1.548718</td>\n",
       "      <td>0.403034</td>\n",
       "      <td>-0.407193</td>\n",
       "      <td>0.095921</td>\n",
       "      <td>0.592941</td>\n",
       "      <td>-0.270533</td>\n",
       "      <td>0.817739</td>\n",
       "      <td>0.753074</td>\n",
       "      <td>...</td>\n",
       "      <td>-0.009431</td>\n",
       "      <td>0.798278</td>\n",
       "      <td>-0.137458</td>\n",
       "      <td>0.141267</td>\n",
       "      <td>-0.206010</td>\n",
       "      <td>0.502292</td>\n",
       "      <td>0.219422</td>\n",
       "      <td>0.215153</td>\n",
       "      <td>0</td>\n",
       "      <td>-0.073403</td>\n",
       "    </tr>\n",
       "  </tbody>\n",
       "</table>\n",
       "<p>5 rows × 30 columns</p>\n",
       "</div>"
      ],
      "text/plain": [
       "         V1        V2        V3        V4        V5        V6        V7  \\\n",
       "0 -1.359807 -0.072781  2.536347  1.378155 -0.338321  0.462388  0.239599   \n",
       "1  1.191857  0.266151  0.166480  0.448154  0.060018 -0.082361 -0.078803   \n",
       "2 -1.358354 -1.340163  1.773209  0.379780 -0.503198  1.800499  0.791461   \n",
       "3 -0.966272 -0.185226  1.792993 -0.863291 -0.010309  1.247203  0.237609   \n",
       "4 -1.158233  0.877737  1.548718  0.403034 -0.407193  0.095921  0.592941   \n",
       "\n",
       "         V8        V9       V10     ...           V21       V22       V23  \\\n",
       "0  0.098698  0.363787  0.090794     ...     -0.018307  0.277838 -0.110474   \n",
       "1  0.085102 -0.255425 -0.166974     ...     -0.225775 -0.638672  0.101288   \n",
       "2  0.247676 -1.514654  0.207643     ...      0.247998  0.771679  0.909412   \n",
       "3  0.377436 -1.387024 -0.054952     ...     -0.108300  0.005274 -0.190321   \n",
       "4 -0.270533  0.817739  0.753074     ...     -0.009431  0.798278 -0.137458   \n",
       "\n",
       "        V24       V25       V26       V27       V28  Class  normAmount  \n",
       "0  0.066928  0.128539 -0.189115  0.133558 -0.021053      0    0.244964  \n",
       "1 -0.339846  0.167170  0.125895 -0.008983  0.014724      0   -0.342475  \n",
       "2 -0.689281 -0.327642 -0.139097 -0.055353 -0.059752      0    1.160686  \n",
       "3 -1.175575  0.647376 -0.221929  0.062723  0.061458      0    0.140534  \n",
       "4  0.141267 -0.206010  0.502292  0.219422  0.215153      0   -0.073403  \n",
       "\n",
       "[5 rows x 30 columns]"
      ]
     },
     "execution_count": 10,
     "metadata": {},
     "output_type": "execute_result"
    }
   ],
   "source": [
    "from sklearn.preprocessing import StandardScaler\n",
    "\n",
    "df[\"normAmount\"]=StandardScaler().fit_transform(df[\"Amount\"].values.reshape(-1,1))\n",
    "df=df.drop([\"Time\",\"Amount\"],axis=1)\n",
    "df.head()"
   ]
  },
  {
   "cell_type": "markdown",
   "metadata": {},
   "source": [
    "## 样本不均衡解决办法：生成新样本（过采样、下采样）"
   ]
  },
  {
   "cell_type": "markdown",
   "metadata": {},
   "source": [
    "### 方法一：下采样（样本数同样少）"
   ]
  },
  {
   "cell_type": "code",
   "execution_count": 12,
   "metadata": {
    "collapsed": true
   },
   "outputs": [],
   "source": [
    "X=df.iloc[:,df.columns!=\"Class\"]\n",
    "y=df.iloc[:,df.columns==\"Class\"]"
   ]
  },
  {
   "cell_type": "code",
   "execution_count": 17,
   "metadata": {
    "scrolled": true
   },
   "outputs": [
    {
     "name": "stdout",
     "output_type": "stream",
     "text": [
      "percentage_class_1: 0.5\n",
      "percentage_class_0: 0.5\n",
      "Total of transactions in resampled data: 984\n"
     ]
    }
   ],
   "source": [
    "number_class_1=len(df[df.Class==1])\n",
    "class_1_index=np.array(df[df.Class==1].index)\n",
    "\n",
    "class_0_index=df[df.Class==0].index\n",
    "\n",
    "random_class_0_index=np.random.choice(class_0_index,number_class_1,replace=False)\n",
    "random_class_0_index=np.array(random_class_0_index)\n",
    "\n",
    "#提取下采样样本，两个类别数量相同\n",
    "under_sample_index=np.concatenate([class_1_index,random_class_0_index])\n",
    "under_sample_data=df.iloc[under_sample_index,:]\n",
    "\n",
    "X_undersample=under_sample_data.loc[:,under_sample_data.columns!=\"Class\"]\n",
    "y_undersample=under_sample_data.loc[:,under_sample_data.columns==\"Class\"]\n",
    "\n",
    "percentage_class_1=len(under_sample_data[under_sample_data.Class==1])/len(under_sample_data)\n",
    "percentage_class_0=len(under_sample_data[under_sample_data.Class==0])/len(under_sample_data)\n",
    "print(\"percentage_class_1:\",percentage_class_1)\n",
    "print(\"percentage_class_0:\",percentage_class_0)\n",
    "print(\"Total of transactions in resampled data:\",len(under_sample_data))"
   ]
  },
  {
   "cell_type": "markdown",
   "metadata": {},
   "source": [
    "## 11.4  交叉验证（sklearn.cross_validation.train_test_split）"
   ]
  },
  {
   "cell_type": "code",
   "execution_count": 19,
   "metadata": {},
   "outputs": [
    {
     "name": "stdout",
     "output_type": "stream",
     "text": [
      "number of train dataset: 199364\n",
      "number of test dataset: 85443\n",
      "total number of dataset: 284807\n",
      "number of train_undersample dataset: 688\n",
      "number of test_undersample dataset: 296\n",
      "total number of undersample dataset: 984\n"
     ]
    }
   ],
   "source": [
    "from sklearn.cross_validation import train_test_split\n",
    "\n",
    "#对原始数据集进行切分\n",
    "X_train,X_test,y_train,y_test=train_test_split(X,y,test_size=0.3,random_state=0)\n",
    "\n",
    "print(\"number of train dataset:\",len(X_train))\n",
    "print(\"number of test dataset:\",len(X_test))\n",
    "print(\"total number of dataset:\",len(X_test)+len(X_train))\n",
    "\n",
    "#对下采样数据集进行切分\n",
    "X_train_undersample,X_test_undersample,y_train_undersample,y_test_undersample=train_test_split(X_undersample,y_undersample,test_size=0.3,random_state=0)\n",
    "\n",
    "print(\"number of train_undersample dataset:\",len(X_train_undersample))\n",
    "print(\"number of test_undersample dataset:\",len(X_test_undersample))\n",
    "print(\"total number of undersample dataset:\",len(X_test_undersample)+len(X_train_undersample))"
   ]
  },
  {
   "cell_type": "markdown",
   "metadata": {},
   "source": [
    "## 11.5-11.6  模型评估方法、正则化惩罚(l1与l2惩罚)"
   ]
  },
  {
   "cell_type": "markdown",
   "metadata": {},
   "source": [
    "不能单纯使用准确率（如会把所有数据都预测为正常的模型，假如有1000个样本。10个是异常的，那么准确率是99%，显然这样评估是错误的）"
   ]
  },
  {
   "cell_type": "markdown",
   "metadata": {},
   "source": [
    " Recall = TP/(TP+FN)"
   ]
  },
  {
   "cell_type": "markdown",
   "metadata": {},
   "source": [
    "（混淆矩阵）FN（False Nagative）为“误杀”，误杀率可以通过调节阈值来降低FN"
   ]
  },
  {
   "cell_type": "markdown",
   "metadata": {},
   "source": [
    "### 查准率、查全率（recall）、混淆矩阵（TP/FP/FN/TN）"
   ]
  },
  {
   "cell_type": "code",
   "execution_count": 20,
   "metadata": {
    "collapsed": true
   },
   "outputs": [],
   "source": [
    "#Recall=TP/(TP+FN)\n",
    "\n",
    "from sklearn.linear_model import LogisticRegression\n",
    "from sklearn.cross_validation import KFold,cross_val_score\n",
    "#confusion_matrix混淆矩阵\n",
    "from sklearn.metrics import confusion_matrix,recall_score,classification_report"
   ]
  },
  {
   "cell_type": "code",
   "execution_count": 53,
   "metadata": {
    "collapsed": true
   },
   "outputs": [],
   "source": [
    "def printing_Kfold_scores(X_train,y_train):\n",
    "    fold=KFold(len(y_train),5,shuffle=False)\n",
    "    \n",
    "    #惩罚力度参数C值，不同C值生成不同的模型，需评估获取最优参数\n",
    "    c_range=[0.01,0.1,1,10,100]\n",
    "    \n",
    "    results_table=pd.DataFrame(index=range(len(c_range),2),columns=[\"C_value\",\"Mean recall \"])\n",
    "    results_table[\"C_value\"]=c_range\n",
    "    \n",
    "    j=0\n",
    "    #多个C值进行比较\n",
    "    for c in c_range:\n",
    "        print(\"--\"*15)\n",
    "        print(\"c value:\",c)\n",
    "        print(\"--\"*15)\n",
    "        print(\"\")\n",
    "        \n",
    "        recall_accs=[]\n",
    "        #在每个C值下多次做交叉验证\n",
    "        for iteration,index in enumerate(fold,start=1):\n",
    "      \n",
    "            #逻辑回归模型实例化，使用参数c，penalty设置惩罚项为l1算法\n",
    "            lr=LogisticRegression(C=c,penalty=\"l1\")   \n",
    "            lr.fit(X_train.iloc[index[0],:],y_train.iloc[index[0],:].values.ravel())\n",
    "            # 模型预测\n",
    "            y_pred_undersample = lr.predict(X_train.iloc[index[1],:].values)\n",
    "\n",
    "            #计算recall值\n",
    "            recall_acc = recall_score(y_train.iloc[index[1],:].values,y_pred_undersample)\n",
    "            recall_accs.append(recall_acc)\n",
    "            print('Iteration ', iteration,': recall score = ', recall_acc)\n",
    "\n",
    "        #求recall值的平均值\n",
    "        results_table.loc[j,'Mean recall score'] = np.mean(recall_accs)\n",
    "        j += 1\n",
    "        print('')\n",
    "        print('recall均值 ', np.mean(recall_accs))\n",
    "        print('')\n",
    "\n",
    "    #找到最佳C值\n",
    "    best_c = results_table.loc[results_table['Mean recall score'].idxmax()]['C_value']\n",
    "    \n",
    "    #输出最佳C值\n",
    "    print(\"--\"*15)\n",
    "    print('最佳C值', best_c)\n",
    "    print(\"--\"*15)\n",
    "    \n",
    "    return best_c"
   ]
  },
  {
   "cell_type": "code",
   "execution_count": 54,
   "metadata": {},
   "outputs": [
    {
     "name": "stdout",
     "output_type": "stream",
     "text": [
      "------------------------------\n",
      "c value: 0.01\n",
      "------------------------------\n",
      "\n",
      "Iteration  1 : recall score =  0.958904109589\n",
      "Iteration  2 : recall score =  0.931506849315\n",
      "Iteration  3 : recall score =  1.0\n",
      "Iteration  4 : recall score =  0.959459459459\n",
      "Iteration  5 : recall score =  0.969696969697\n",
      "\n",
      "recall均值  0.963913477612\n",
      "\n",
      "------------------------------\n",
      "c value: 0.1\n",
      "------------------------------\n",
      "\n",
      "Iteration  1 : recall score =  0.849315068493\n",
      "Iteration  2 : recall score =  0.86301369863\n",
      "Iteration  3 : recall score =  0.966101694915\n",
      "Iteration  4 : recall score =  0.945945945946\n",
      "Iteration  5 : recall score =  0.909090909091\n",
      "\n",
      "recall均值  0.906693463415\n",
      "\n",
      "------------------------------\n",
      "c value: 1\n",
      "------------------------------\n",
      "\n",
      "Iteration  1 : recall score =  0.86301369863\n",
      "Iteration  2 : recall score =  0.890410958904\n",
      "Iteration  3 : recall score =  0.983050847458\n",
      "Iteration  4 : recall score =  0.945945945946\n",
      "Iteration  5 : recall score =  0.909090909091\n",
      "\n",
      "recall均值  0.918302472006\n",
      "\n",
      "------------------------------\n",
      "c value: 10\n",
      "------------------------------\n",
      "\n",
      "Iteration  1 : recall score =  0.86301369863\n",
      "Iteration  2 : recall score =  0.904109589041\n",
      "Iteration  3 : recall score =  0.983050847458\n",
      "Iteration  4 : recall score =  0.945945945946\n",
      "Iteration  5 : recall score =  0.909090909091\n",
      "\n",
      "recall均值  0.921042198033\n",
      "\n",
      "------------------------------\n",
      "c value: 100\n",
      "------------------------------\n",
      "\n",
      "Iteration  1 : recall score =  0.876712328767\n",
      "Iteration  2 : recall score =  0.917808219178\n",
      "Iteration  3 : recall score =  0.983050847458\n",
      "Iteration  4 : recall score =  0.945945945946\n",
      "Iteration  5 : recall score =  0.924242424242\n",
      "\n",
      "recall均值  0.929551953118\n",
      "\n",
      "------------------------------\n",
      "最佳C值 0.01\n",
      "------------------------------\n"
     ]
    }
   ],
   "source": [
    "best_c = printing_Kfold_scores(X_train_undersample,y_train_undersample)"
   ]
  },
  {
   "cell_type": "markdown",
   "metadata": {},
   "source": [
    "### 过拟合：训练集效果好、测试集效果差"
   ]
  },
  {
   "cell_type": "markdown",
   "metadata": {},
   "source": [
    "L2正则化：loss+1/2w**2"
   ]
  },
  {
   "cell_type": "markdown",
   "metadata": {},
   "source": [
    "L1正则化：|w|"
   ]
  },
  {
   "cell_type": "markdown",
   "metadata": {},
   "source": [
    "惩罚力度：lamda"
   ]
  },
  {
   "cell_type": "markdown",
   "metadata": {},
   "source": [
    "## 11.7 逻辑回归模型"
   ]
  },
  {
   "cell_type": "markdown",
   "metadata": {},
   "source": [
    "### 混淆矩阵"
   ]
  },
  {
   "cell_type": "code",
   "execution_count": 55,
   "metadata": {
    "collapsed": true
   },
   "outputs": [],
   "source": [
    "def plot_confusion_matrix(cm, classes,title='混淆矩阵',cmap=plt.cm.Blues):\n",
    "    plt.imshow(cm, interpolation='nearest', cmap=cmap)\n",
    "    plt.title(title)\n",
    "    plt.colorbar()\n",
    "    tick_marks = np.arange(len(classes))\n",
    "    plt.xticks(tick_marks, classes, rotation=0)\n",
    "    plt.yticks(tick_marks, classes)\n",
    "\n",
    "    thresh = cm.max() / 2.\n",
    "    for i, j in itertools.product(range(cm.shape[0]), range(cm.shape[1])):\n",
    "        plt.text(j, i, cm[i, j],\n",
    "                 horizontalalignment=\"center\",\n",
    "                 color=\"white\" if cm[i, j] > thresh else \"black\")\n",
    "\n",
    "    plt.tight_layout()\n",
    "    plt.ylabel('True label')\n",
    "    plt.xlabel('Predicted label')"
   ]
  },
  {
   "cell_type": "code",
   "execution_count": 59,
   "metadata": {},
   "outputs": [
    {
     "name": "stdout",
     "output_type": "stream",
     "text": [
      "测试集下的查全率:  0.931972789116\n"
     ]
    },
    {
     "data": {
      "image/png": "[encoded data removed]",
      "text/plain": [
       "<matplotlib.figure.Figure at 0xcbd4710>"
      ]
     },
     "metadata": {},
     "output_type": "display_data"
    }
   ],
   "source": [
    "import itertools\n",
    "lr = LogisticRegression(C = best_c, penalty = 'l1')\n",
    "lr.fit(X_train_undersample,y_train_undersample.values.ravel())\n",
    "y_pred_undersample = lr.predict(X_test_undersample.values)\n",
    "\n",
    "# 计算混淆矩阵\n",
    "cnf_matrix = confusion_matrix(y_test_undersample,y_pred_undersample)\n",
    "np.set_printoptions(precision=2)\n",
    "\n",
    "print(\"测试集下的查全率: \", cnf_matrix[1,1]/(cnf_matrix[1,0]+cnf_matrix[1,1]))\n",
    "\n",
    "# Plot non-normalized confusion matrix\n",
    "class_names = [0,1]\n",
    "plt.figure()\n",
    "plt.rcParams[\"font.sans-serif\"]=[\"SimHei\"]\n",
    "plt.rcParams[\"axes.unicode_minus\"]=False\n",
    "plot_confusion_matrix(cnf_matrix\n",
    "                      , classes=class_names\n",
    "                      , title='混淆矩阵')\n",
    "plt.show()"
   ]
  },
  {
   "cell_type": "markdown",
   "metadata": {},
   "source": [
    "## 过采样（imlearn.over_sampling.SMOTE算法生成数据）"
   ]
  },
  {
   "cell_type": "markdown",
   "metadata": {},
   "source": [
    "下采样为under_sample"
   ]
  },
  {
   "cell_type": "code",
   "execution_count": 60,
   "metadata": {
    "collapsed": true
   },
   "outputs": [],
   "source": [
    "import pandas as pd\n",
    "from imblearn.over_sampling import SMOTE\n",
    "from sklearn.ensemble import RandomForestClassifier\n",
    "from sklearn.metrics import confusion_matrix\n",
    "from sklearn.model_selection import train_test_split"
   ]
  },
  {
   "cell_type": "code",
   "execution_count": 61,
   "metadata": {
    "collapsed": true
   },
   "outputs": [],
   "source": [
    "filepath=\"C:\\\\Users\\\\ma\\\\Desktop\\\\唐宇迪-机器学习课程\\\\麻书琴笔记\\\\creditcard.csv\"\n",
    "pwd=os.getcwd()\n",
    "os.chdir(os.path.dirname(filepath))\n",
    "df = pd.read_csv(os.path.basename(filepath))\n",
    "os.chdir(pwd)"
   ]
  },
  {
   "cell_type": "code",
   "execution_count": 64,
   "metadata": {
    "collapsed": true
   },
   "outputs": [],
   "source": [
    "columns=df.columns\n",
    "features=columns.delete(len(columns)-1)\n",
    "features=df[features]\n",
    "labels=df[\"Class\"]"
   ]
  },
  {
   "cell_type": "code",
   "execution_count": 70,
   "metadata": {
    "collapsed": true
   },
   "outputs": [],
   "source": [
    "features_train,features_test,labels_train,labels_test=train_test_split(features,\n",
    "                                                                         labels,\n",
    "                                                                         test_size=0.2,\n",
    "                                                                         random_state=0)"
   ]
  },
  {
   "cell_type": "code",
   "execution_count": 71,
   "metadata": {
    "collapsed": true
   },
   "outputs": [],
   "source": [
    "#实例化SMOTE对象，random_state=0指定每次生成数据一样\n",
    "oversampler=SMOTE(random_state=0)\n",
    "#fit_sample训练,生成数据\n",
    "os_features,os_labels=oversampler.fit_sample(features_train,labels_train)"
   ]
  },
  {
   "cell_type": "code",
   "execution_count": 72,
   "metadata": {},
   "outputs": [
    {
     "data": {
      "text/plain": [
       "227454"
      ]
     },
     "execution_count": 72,
     "metadata": {},
     "output_type": "execute_result"
    }
   ],
   "source": [
    "len(os_labels[os_labels==1])"
   ]
  },
  {
   "cell_type": "code",
   "execution_count": 69,
   "metadata": {},
   "outputs": [
    {
     "name": "stdout",
     "output_type": "stream",
     "text": [
      "------------------------------\n",
      "c value: 0.01\n",
      "------------------------------\n",
      "\n",
      "Iteration  1 : recall score =  0.890322580645\n",
      "Iteration  2 : recall score =  0.894736842105\n",
      "Iteration  3 : recall score =  0.968861347792\n",
      "Iteration  4 : recall score =  0.953111089128\n",
      "Iteration  5 : recall score =  0.958386915949\n",
      "\n",
      "recall均值  0.933083755124\n",
      "\n",
      "------------------------------\n",
      "c value: 0.1\n",
      "------------------------------\n",
      "\n",
      "Iteration  1 : recall score =  0.890322580645\n",
      "Iteration  2 : recall score =  0.894736842105\n",
      "Iteration  3 : recall score =  0.970476928184\n",
      "Iteration  4 : recall score =  0.960013629219\n",
      "Iteration  5 : recall score =  0.960453281454\n",
      "\n",
      "recall均值  0.935200652322\n",
      "\n",
      "------------------------------\n",
      "c value: 1\n",
      "------------------------------\n",
      "\n",
      "Iteration  1 : recall score =  0.890322580645\n",
      "Iteration  2 : recall score =  0.894736842105\n",
      "Iteration  3 : recall score =  0.969458891225\n",
      "Iteration  4 : recall score =  0.960376342313\n",
      "Iteration  5 : recall score =  0.959815785714\n",
      "\n",
      "recall均值  0.9349420884\n",
      "\n",
      "------------------------------\n",
      "c value: 10\n",
      "------------------------------\n",
      "\n",
      "Iteration  1 : recall score =  0.890322580645\n",
      "Iteration  2 : recall score =  0.894736842105\n",
      "Iteration  3 : recall score =  0.970543321899\n",
      "Iteration  4 : recall score =  0.960266429254\n",
      "Iteration  5 : recall score =  0.958375924644\n",
      "\n",
      "recall均值  0.934849019709\n",
      "\n",
      "------------------------------\n",
      "c value: 100\n",
      "------------------------------\n",
      "\n",
      "Iteration  1 : recall score =  0.890322580645\n",
      "Iteration  2 : recall score =  0.894736842105\n",
      "Iteration  3 : recall score =  0.970476928184\n",
      "Iteration  4 : recall score =  0.959793803102\n",
      "Iteration  5 : recall score =  0.960662116266\n",
      "\n",
      "recall均值  0.93519845406\n",
      "\n",
      "------------------------------\n",
      "最佳C值 0.1\n",
      "------------------------------\n"
     ]
    }
   ],
   "source": [
    "os_features=pd.DataFrame(os_features)\n",
    "os_labels=pd.DataFrame(os_labels)\n",
    "best_c=printing_Kfold_scores(os_features,os_labels)"
   ]
  },
  {
   "cell_type": "code",
   "execution_count": 79,
   "metadata": {
    "scrolled": true
   },
   "outputs": [
    {
     "name": "stdout",
     "output_type": "stream",
     "text": [
      "Recall值： 0.910891089109\n"
     ]
    },
    {
     "data": {
      "image/png": "[encoded data removed]",
      "text/plain": [
       "<matplotlib.figure.Figure at 0xec0dfd0>"
      ]
     },
     "metadata": {},
     "output_type": "display_data"
    }
   ],
   "source": [
    "#生成数据后，用数据训练模型\n",
    "#模型实例化\n",
    "lr=LogisticRegression(C=best_c,penalty=\"l1\")\n",
    "#模型训练，ravel()：转化为1维数组\n",
    "lr.fit(os_features,os_labels.ravel())\n",
    "#模型测试\n",
    "y_pred=lr.predict(features_test.values)\n",
    "\n",
    "#计算混淆矩阵\n",
    "matrix=confusion_matrix(labels_test,y_pred)\n",
    "\n",
    "print(\"Recall值：\",matrix[1,1]/(matrix[1,0]+matrix[1,1]))\n",
    "\n",
    "#绘图\n",
    "class_names=[0,1]\n",
    "plt.figure()\n",
    "plot_confusion_matrix(matrix,\n",
    "                     classes=class_names,\n",
    "                     title=\"混淆矩阵\")\n",
    "plt.rcParams[\"font.sans-serif\"]=[\"SimHei\"]\n",
    "plt.rcParams[\"axes.unicode_minus\"]=False\n",
    "plt.show()"
   ]
  },
  {
   "cell_type": "markdown",
   "metadata": {},
   "source": [
    "关键点总结：\n",
    "1.特征标准化\n",
    "2.模型参数选择（交叉验证）"
   ]
  },
  {
   "cell_type": "code",
   "execution_count": null,
   "metadata": {
    "collapsed": true
   },
   "outputs": [],
   "source": []
  }
 ],
 "metadata": {
  "kernelspec": {
   "display_name": "Python 3",
   "language": "python",
   "name": "python3"
  },
  "language_info": {
   "codemirror_mode": {
    "name": "ipython",
    "version": 3
   },
   "file_extension": ".py",
   "mimetype": "text/x-python",
   "name": "python",
   "nbconvert_exporter": "python",
   "pygments_lexer": "ipython3",
   "version": "3.6.3"
  }
 },
 "nbformat": 4,
 "nbformat_minor": 2
}
