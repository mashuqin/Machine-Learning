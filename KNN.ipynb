{
 "cells": [
  {
   "cell_type": "markdown",
   "metadata": {},
   "source": [
    "### 数据读取"
   ]
  },
  {
   "cell_type": "code",
   "execution_count": 3,
   "metadata": {},
   "outputs": [
    {
     "name": "stdout",
     "output_type": "stream",
     "text": [
      "(3723, 92)\n",
      "------------------------------\n",
      "(3723, 8)\n",
      "------------------------------\n",
      "   accommodates  bedrooms  bathrooms  beds    price  minimum_nights  \\\n",
      "0             4       1.0        1.0   2.0  $160.00               1   \n",
      "1             6       3.0        3.0   3.0  $350.00               2   \n",
      "2             1       1.0        2.0   1.0   $50.00               2   \n",
      "3             2       1.0        1.0   1.0   $95.00               1   \n",
      "\n",
      "   maximum_nights  number_of_reviews  \n",
      "0            1125                  0  \n",
      "1              30                 65  \n",
      "2            1125                  1  \n",
      "3            1125                  0  \n"
     ]
    }
   ],
   "source": [
    "import pandas as pd\n",
    "import os\n",
    "\n",
    "filepath=\"listings.csv\"\n",
    "pwd=os.getcwd()\n",
    "os.chdir(os.path.dirname(filepath))\n",
    "df = pd.read_csv(os.path.basename(filepath))\n",
    "print(df.shape)\n",
    "print(\"--\"*15)\n",
    "os.chdir(pwd)\n",
    "features=[\"accommodates\",\"bedrooms\",\"bathrooms\",\"beds\",\"price\",\"minimum_nights\",\"maximum_nights\",\"number_of_reviews\"]\n",
    "data=df[features]\n",
    "print(data.shape)\n",
    "print(\"--\"*15)\n",
    "print(data.head(4))"
   ]
  },
  {
   "cell_type": "markdown",
   "metadata": {},
   "source": [
    "### price为预测指标\n",
    "### number_of_reviews为评论数"
   ]
  },
  {
   "cell_type": "code",
   "execution_count": 4,
   "metadata": {},
   "outputs": [
    {
     "name": "stderr",
     "output_type": "stream",
     "text": [
      "D:\\anzhuangruanjian\\anaconda\\lib\\site-packages\\ipykernel_launcher.py:4: SettingWithCopyWarning: \n",
      "A value is trying to be set on a copy of a slice from a DataFrame.\n",
      "Try using .loc[row_indexer,col_indexer] = value instead\n",
      "\n",
      "See the caveats in the documentation: http://pandas.pydata.org/pandas-docs/stable/indexing.html#indexing-view-versus-copy\n",
      "  after removing the cwd from sys.path.\n"
     ]
    },
    {
     "data": {
      "text/plain": [
       "0      461\n",
       "1     2294\n",
       "2      503\n",
       "3      279\n",
       "4       35\n",
       "5       73\n",
       "6       17\n",
       "7       22\n",
       "8        7\n",
       "9       12\n",
       "10       2\n",
       "11       4\n",
       "12       6\n",
       "13       8\n",
       "Name: acc_distance, dtype: int64"
      ]
     },
     "execution_count": 4,
     "metadata": {},
     "output_type": "execute_result"
    }
   ],
   "source": [
    "import numpy as np\n",
    "\n",
    "my_acc_value=3\n",
    "data[\"acc_distance\"]=np.abs(data.accommodates-my_acc_value)\n",
    "data.acc_distance.value_counts().sort_index()"
   ]
  },
  {
   "cell_type": "markdown",
   "metadata": {},
   "source": [
    "### 洗牌sample"
   ]
  },
  {
   "cell_type": "code",
   "execution_count": 5,
   "metadata": {},
   "outputs": [
    {
     "data": {
      "text/plain": [
       "2645     $75.00\n",
       "2825    $120.00\n",
       "2145     $90.00\n",
       "2541     $50.00\n",
       "3349    $105.00\n",
       "Name: price, dtype: object"
      ]
     },
     "execution_count": 5,
     "metadata": {},
     "output_type": "execute_result"
    }
   ],
   "source": [
    "data=data.sample(frac=1,random_state=0)\n",
    "data=data.sort_values(\"acc_distance\")\n",
    "data.price.head(5)"
   ]
  },
  {
   "cell_type": "markdown",
   "metadata": {},
   "source": [
    "### 数据格式转换（object转float，将￥符号去掉）"
   ]
  },
  {
   "cell_type": "code",
   "execution_count": 6,
   "metadata": {},
   "outputs": [
    {
     "name": "stdout",
     "output_type": "stream",
     "text": [
      "2645      75.0\n",
      "2825     120.0\n",
      "2145      90.0\n",
      "2541      50.0\n",
      "3349     105.0\n",
      "2228     117.0\n",
      "1122     176.0\n",
      "2311     117.0\n",
      "625      150.0\n",
      "2312     100.0\n",
      "2419     119.0\n",
      "2421     139.0\n",
      "131      215.0\n",
      "3343      99.0\n",
      "976       95.0\n",
      "2376     170.0\n",
      "3625      80.0\n",
      "2700     120.0\n",
      "1499      94.0\n",
      "103      249.0\n",
      "670      121.0\n",
      "2957     120.0\n",
      "1715      90.0\n",
      "2857      98.0\n",
      "421       50.0\n",
      "3340      80.0\n",
      "230      289.0\n",
      "2579     135.0\n",
      "710       89.0\n",
      "880      175.0\n",
      "         ...  \n",
      "542      340.0\n",
      "529      600.0\n",
      "1878      99.0\n",
      "2995     595.0\n",
      "3272     599.0\n",
      "3305    2000.0\n",
      "1326     375.0\n",
      "1656     283.0\n",
      "1875      99.0\n",
      "808      215.0\n",
      "571      720.0\n",
      "3524     295.0\n",
      "685      399.0\n",
      "1403     599.0\n",
      "562      599.0\n",
      "1658     283.0\n",
      "657      500.0\n",
      "2688     749.0\n",
      "1850     180.0\n",
      "1806     330.0\n",
      "2106     499.0\n",
      "2757     245.0\n",
      "611     1250.0\n",
      "1818      10.0\n",
      "1402    1200.0\n",
      "763     1000.0\n",
      "2560      60.0\n",
      "1594    1250.0\n",
      "1224     499.0\n",
      "1596     299.0\n",
      "Name: price, Length: 3723, dtype: float64\n",
      "88.0\n"
     ]
    }
   ],
   "source": [
    "data[\"price\"]=data.price.str.strip(\"$\")\n",
    "data[\"price\"]=data.price.str.replace(\",\",\"\")\n",
    "data[\"price\"]=data.price.astype(float)\n",
    "print(data.price)\n",
    "mean_price=data.price.iloc[:5].mean()\n",
    "print(mean_price)"
   ]
  },
  {
   "cell_type": "markdown",
   "metadata": {},
   "source": [
    "# 6.2   模型的评估"
   ]
  },
  {
   "cell_type": "markdown",
   "metadata": {},
   "source": [
    "### 分训练集与测试集"
   ]
  },
  {
   "cell_type": "code",
   "execution_count": 7,
   "metadata": {
    "collapsed": true
   },
   "outputs": [],
   "source": [
    "data.drop(\"acc_distance\",axis=1)\n",
    "train_set=data.copy().iloc[:2792]\n",
    "test_set=data.copy().iloc[2792:]"
   ]
  },
  {
   "cell_type": "markdown",
   "metadata": {},
   "source": [
    "### 基于单变量预测价格"
   ]
  },
  {
   "cell_type": "code",
   "execution_count": 8,
   "metadata": {
    "collapsed": true
   },
   "outputs": [],
   "source": [
    "def predict_price(new_listing_value,feature_column):\n",
    "    temp_df=train_set\n",
    "    temp_df[\"distance\"]=np.abs(data[feature_column]-new_listing_value)\n",
    "    temp_df=temp_df.sort_values(\"distance\")\n",
    "    knn_5=temp_df.price.iloc[:5]\n",
    "    predicted_price=knn_5.mean()\n",
    "    return predicted_price"
   ]
  },
  {
   "cell_type": "code",
   "execution_count": 9,
   "metadata": {
    "collapsed": true
   },
   "outputs": [],
   "source": [
    "test_set[\"predicted_price\"]=test_set.accommodates.apply(predict_price,feature_column=\"accommodates\")\n",
    "#print(test_set[\"predicted_price\"])"
   ]
  },
  {
   "cell_type": "markdown",
   "metadata": {},
   "source": [
    "### 这样得到了测试集中所有房子的价格了"
   ]
  },
  {
   "cell_type": "markdown",
   "metadata": {},
   "source": [
    "### 均方根误差"
   ]
  },
  {
   "cell_type": "code",
   "execution_count": 10,
   "metadata": {},
   "outputs": [
    {
     "data": {
      "text/plain": [
       "212.98927967051543"
      ]
     },
     "execution_count": 10,
     "metadata": {},
     "output_type": "execute_result"
    }
   ],
   "source": [
    "test_set[\"squared_error\"]=(test_set[\"predicted_price\"]-test_set[\"price\"])**(2)\n",
    "mse=test_set[\"squared_error\"].mean()\n",
    "rmse=mse**(1/2)\n",
    "rmse"
   ]
  },
  {
   "cell_type": "markdown",
   "metadata": {},
   "source": [
    "### 这只是一个变量的模型评估得分，那么，不同的变量是否有不同的效果？"
   ]
  },
  {
   "cell_type": "code",
   "execution_count": 11,
   "metadata": {},
   "outputs": [
    {
     "name": "stdout",
     "output_type": "stream",
     "text": [
      "RMSE for the accommodates column:212.98927967051543\n",
      "RMSE for the bedrooms column:199.80935328065033\n",
      "RMSE for the bathrooms column:230.24716705684227\n",
      "RMSE for the number_of_reviews column:235.91327066995507\n"
     ]
    }
   ],
   "source": [
    "for feature in [\"accommodates\",\"bedrooms\",\"bathrooms\",\"number_of_reviews\"]:\n",
    "    test_set[\"predicted_price\"]=test_set[feature].apply(predict_price,feature_column=feature)\n",
    "    test_set[\"squared_error\"]=(test_set[\"predicted_price\"]-test_set[\"price\"])**(2)\n",
    "    mse=test_set[\"squared_error\"].mean()\n",
    "    rmse=mse**(1/2)\n",
    "    rmse\n",
    "    print(\"RMSE for the {} column:{}\".format(feature,rmse))"
   ]
  },
  {
   "cell_type": "markdown",
   "metadata": {},
   "source": [
    "## 6.3  数据预处理（标准化及归一化）"
   ]
  },
  {
   "cell_type": "code",
   "execution_count": 12,
   "metadata": {},
   "outputs": [
    {
     "name": "stdout",
     "output_type": "stream",
     "text": [
      "(3723, 8)\n",
      "------------------------------\n",
      "(3671, 8)\n",
      "(3671, 8)\n"
     ]
    },
    {
     "name": "stderr",
     "output_type": "stream",
     "text": [
      "D:\\anzhuangruanjian\\anaconda\\lib\\site-packages\\ipykernel_launcher.py:13: SettingWithCopyWarning: \n",
      "A value is trying to be set on a copy of a slice from a DataFrame.\n",
      "Try using .loc[row_indexer,col_indexer] = value instead\n",
      "\n",
      "See the caveats in the documentation: http://pandas.pydata.org/pandas-docs/stable/indexing.html#indexing-view-versus-copy\n",
      "  del sys.path[0]\n",
      "D:\\anzhuangruanjian\\anaconda\\lib\\site-packages\\ipykernel_launcher.py:14: SettingWithCopyWarning: \n",
      "A value is trying to be set on a copy of a slice from a DataFrame.\n",
      "Try using .loc[row_indexer,col_indexer] = value instead\n",
      "\n",
      "See the caveats in the documentation: http://pandas.pydata.org/pandas-docs/stable/indexing.html#indexing-view-versus-copy\n",
      "  \n",
      "D:\\anzhuangruanjian\\anaconda\\lib\\site-packages\\ipykernel_launcher.py:15: SettingWithCopyWarning: \n",
      "A value is trying to be set on a copy of a slice from a DataFrame.\n",
      "Try using .loc[row_indexer,col_indexer] = value instead\n",
      "\n",
      "See the caveats in the documentation: http://pandas.pydata.org/pandas-docs/stable/indexing.html#indexing-view-versus-copy\n",
      "  from ipykernel import kernelapp as app\n"
     ]
    },
    {
     "data": {
      "text/html": [
       "<div>\n",
       "<style>\n",
       "    .dataframe thead tr:only-child th {\n",
       "        text-align: right;\n",
       "    }\n",
       "\n",
       "    .dataframe thead th {\n",
       "        text-align: left;\n",
       "    }\n",
       "\n",
       "    .dataframe tbody tr th {\n",
       "        vertical-align: top;\n",
       "    }\n",
       "</style>\n",
       "<table border=\"1\" class=\"dataframe\">\n",
       "  <thead>\n",
       "    <tr style=\"text-align: right;\">\n",
       "      <th></th>\n",
       "      <th>accommodates</th>\n",
       "      <th>bedrooms</th>\n",
       "      <th>bathrooms</th>\n",
       "      <th>beds</th>\n",
       "      <th>price</th>\n",
       "      <th>minimum_nights</th>\n",
       "      <th>maximum_nights</th>\n",
       "      <th>number_of_reviews</th>\n",
       "    </tr>\n",
       "  </thead>\n",
       "  <tbody>\n",
       "    <tr>\n",
       "      <th>0</th>\n",
       "      <td>0.401420</td>\n",
       "      <td>-0.249501</td>\n",
       "      <td>-0.439211</td>\n",
       "      <td>0.297386</td>\n",
       "      <td>0.081119</td>\n",
       "      <td>-0.341421</td>\n",
       "      <td>-0.016575</td>\n",
       "      <td>-0.516779</td>\n",
       "    </tr>\n",
       "    <tr>\n",
       "      <th>1</th>\n",
       "      <td>1.399466</td>\n",
       "      <td>2.129508</td>\n",
       "      <td>2.969551</td>\n",
       "      <td>1.141704</td>\n",
       "      <td>1.462622</td>\n",
       "      <td>-0.065047</td>\n",
       "      <td>-0.016606</td>\n",
       "      <td>1.706767</td>\n",
       "    </tr>\n",
       "    <tr>\n",
       "      <th>2</th>\n",
       "      <td>-1.095648</td>\n",
       "      <td>-0.249501</td>\n",
       "      <td>1.265170</td>\n",
       "      <td>-0.546933</td>\n",
       "      <td>-0.718699</td>\n",
       "      <td>-0.065047</td>\n",
       "      <td>-0.016575</td>\n",
       "      <td>-0.482571</td>\n",
       "    </tr>\n",
       "    <tr>\n",
       "      <th>3</th>\n",
       "      <td>-0.596625</td>\n",
       "      <td>-0.249501</td>\n",
       "      <td>-0.439211</td>\n",
       "      <td>-0.546933</td>\n",
       "      <td>-0.391501</td>\n",
       "      <td>-0.341421</td>\n",
       "      <td>-0.016575</td>\n",
       "      <td>-0.516779</td>\n",
       "    </tr>\n",
       "    <tr>\n",
       "      <th>4</th>\n",
       "      <td>0.401420</td>\n",
       "      <td>-0.249501</td>\n",
       "      <td>-0.439211</td>\n",
       "      <td>-0.546933</td>\n",
       "      <td>-0.718699</td>\n",
       "      <td>1.316824</td>\n",
       "      <td>-0.016575</td>\n",
       "      <td>-0.516779</td>\n",
       "    </tr>\n",
       "  </tbody>\n",
       "</table>\n",
       "</div>"
      ],
      "text/plain": [
       "   accommodates  bedrooms  bathrooms      beds     price  minimum_nights  \\\n",
       "0      0.401420 -0.249501  -0.439211  0.297386  0.081119       -0.341421   \n",
       "1      1.399466  2.129508   2.969551  1.141704  1.462622       -0.065047   \n",
       "2     -1.095648 -0.249501   1.265170 -0.546933 -0.718699       -0.065047   \n",
       "3     -0.596625 -0.249501  -0.439211 -0.546933 -0.391501       -0.341421   \n",
       "4      0.401420 -0.249501  -0.439211 -0.546933 -0.718699        1.316824   \n",
       "\n",
       "   maximum_nights  number_of_reviews  \n",
       "0       -0.016575          -0.516779  \n",
       "1       -0.016606           1.706767  \n",
       "2       -0.016575          -0.482571  \n",
       "3       -0.016575          -0.516779  \n",
       "4       -0.016575          -0.516779  "
      ]
     },
     "execution_count": 12,
     "metadata": {},
     "output_type": "execute_result"
    }
   ],
   "source": [
    "import pandas as pd\n",
    "from sklearn.preprocessing import  StandardScaler\n",
    "\n",
    "filepath=\"C:\\\\Users\\\\ma\\\\Desktop\\\\唐宇迪-机器学习课程\\\\机器学习算法配套案例实战\\\\K近邻\\\\listings.csv\"\n",
    "pwd=os.getcwd()\n",
    "os.chdir(os.path.dirname(filepath))\n",
    "df = pd.read_csv(os.path.basename(filepath))\n",
    "os.chdir(pwd)\n",
    "features=[\"accommodates\",\"bedrooms\",\"bathrooms\",\"beds\",\"price\",\"minimum_nights\",\"maximum_nights\",\"number_of_reviews\"]\n",
    "data=df[features]\n",
    "print(data.shape)\n",
    "print(\"--\"*15)\n",
    "data[\"price\"]=data.price.str.strip(\"$\")\n",
    "data[\"price\"]=data.price.str.replace(\",\",\"\")\n",
    "data[\"price\"]=data.price.astype(float)\n",
    "\n",
    "data=data.dropna()\n",
    "print(data.shape)\n",
    "\n",
    "data[features]=StandardScaler().fit_transform(data[features])\n",
    "\n",
    "normalized_data=data\n",
    "print(data.shape)\n",
    "normalized_data.head(5)"
   ]
  },
  {
   "cell_type": "markdown",
   "metadata": {},
   "source": [
    "## 6.5  多变量KNN模型"
   ]
  },
  {
   "cell_type": "code",
   "execution_count": 13,
   "metadata": {
    "collapsed": true
   },
   "outputs": [],
   "source": [
    "norm_train_set=normalized_data.copy().iloc[:2792]\n",
    "norm_test_set=normalized_data.copy().iloc[2792:]"
   ]
  },
  {
   "cell_type": "markdown",
   "metadata": {},
   "source": [
    "###  多变量距离的计算 （用scipy包）"
   ]
  },
  {
   "cell_type": "markdown",
   "metadata": {},
   "source": [
    "### distance.euclidean计算欧式距离"
   ]
  },
  {
   "cell_type": "code",
   "execution_count": 14,
   "metadata": {},
   "outputs": [
    {
     "data": {
      "text/plain": [
       "3.7230196040170322"
      ]
     },
     "execution_count": 14,
     "metadata": {},
     "output_type": "execute_result"
    }
   ],
   "source": [
    "from scipy.spatial import distance\n",
    "\n",
    "#随机取两个样本，计算其距离\n",
    "first_data=normalized_data.iloc[0][[\"accommodates\",\"bathrooms\"]]\n",
    "fifth_data=normalized_data.iloc[20][[\"accommodates\",\"bathrooms\"]]\n",
    "first_fifth_distance=distance.euclidean(first_data,fifth_data)\n",
    "first_fifth_distance"
   ]
  },
  {
   "cell_type": "markdown",
   "metadata": {},
   "source": [
    "### 多变量KNN模型（distance.cdist计算距离）"
   ]
  },
  {
   "cell_type": "code",
   "execution_count": 15,
   "metadata": {
    "collapsed": true
   },
   "outputs": [],
   "source": [
    "\n",
    "#def predict_price_multivariate(new_value,feature_columns):\n",
    "  #  temp_df=norm_train_set\n",
    "   # temp_df[\"distance\"]=distance.cdist(temp_df[feature_columns],new_value[feature_columns])\n",
    "    #temp_df=temp_df.sort_values(\"distance\")\n",
    "    #knn_5=temp_df.price.iloc[:5]\n",
    "    #predicted_price=knn_5.mean()\n",
    "    \n",
    "    #return predicted_price\n",
    "\n",
    "#cols=[\"accommodates\",\"bathrooms\"]\n",
    "#norm_test_set[\"predicted_price\"]=norm_test_set[cols].apply(predict_price_multivariate,feature_columns=cols,axis=1)\n",
    "#norm_test_set[\"squared_error\"]=(norm_test_set[\"predicted_price\"]-norm_test_set[\"price\"])**(2)\n",
    "#mse=norm_test_set[\"squared_error\"].mean()\n",
    "#rmse=mse**(1/2)"
   ]
  },
  {
   "cell_type": "markdown",
   "metadata": {},
   "source": [
    "### 使用sklearn完成KNN"
   ]
  },
  {
   "cell_type": "code",
   "execution_count": 16,
   "metadata": {
    "collapsed": true
   },
   "outputs": [],
   "source": [
    "from sklearn.neighbors import KNeighborsRegressor\n",
    "cols=[\"accommodates\",\"bathrooms\"]\n",
    "#KNN实例化\n",
    "knn=KNeighborsRegressor()\n",
    "#模型训练\n",
    "knn.fit(norm_train_set[cols],norm_train_set[\"price\"])\n",
    "#模型测试\n",
    "two_features_predictions=knn.predict(norm_test_set[cols])"
   ]
  },
  {
   "cell_type": "code",
   "execution_count": 17,
   "metadata": {},
   "outputs": [
    {
     "name": "stdout",
     "output_type": "stream",
     "text": [
      "0.857101359199\n"
     ]
    }
   ],
   "source": [
    "from sklearn.neighbors import KNeighborsRegressor\n",
    "from sklearn.metrics import mean_squared_error\n",
    "\n",
    "two_features_mse=mean_squared_error(norm_test_set[\"price\"],two_features_predictions)\n",
    "two_features_rmse=two_features_mse**(1/2)\n",
    "print(two_features_rmse)"
   ]
  },
  {
   "cell_type": "markdown",
   "metadata": {},
   "source": [
    "### 加入更多的特征"
   ]
  },
  {
   "cell_type": "code",
   "execution_count": 20,
   "metadata": {},
   "outputs": [
    {
     "name": "stdout",
     "output_type": "stream",
     "text": [
      "0.824383853088\n"
     ]
    }
   ],
   "source": [
    "cols=[\"accommodates\",\"bedrooms\",\"bathrooms\",\"beds\",\"minimum_nights\",\"maximum_nights\",\"number_of_reviews\"]\n",
    "#KNN实例化\n",
    "knn=KNeighborsRegressor()\n",
    "#模型训练\n",
    "knn.fit(norm_train_set[cols],norm_train_set[\"price\"])\n",
    "#模型测试\n",
    "seven_features_predictions=knn.predict(norm_test_set[cols])\n",
    "seven_features_mse=mean_squared_error(norm_test_set[\"price\"],seven_features_predictions)\n",
    "seven_features_rmse=seven_features_mse**(1/2)\n",
    "print(seven_features_rmse)"
   ]
  },
  {
   "cell_type": "markdown",
   "metadata": {},
   "source": [
    "##  6.4  sklearn库与功能"
   ]
  },
  {
   "cell_type": "code",
   "execution_count": 21,
   "metadata": {},
   "outputs": [
    {
     "name": "stdout",
     "output_type": "stream",
     "text": [
      "   fixed acidity  volatile acidity  citric acid  residual sugar  chlorides  \\\n",
      "0            7.4              0.70         0.00             1.9      0.076   \n",
      "1            7.8              0.88         0.00             2.6      0.098   \n",
      "2            7.8              0.76         0.04             2.3      0.092   \n",
      "3           11.2              0.28         0.56             1.9      0.075   \n",
      "4            7.4              0.70         0.00             1.9      0.076   \n",
      "\n",
      "   free sulfur dioxide  total sulfur dioxide  density    pH  sulphates  \\\n",
      "0                 11.0                  34.0   0.9978  3.51       0.56   \n",
      "1                 25.0                  67.0   0.9968  3.20       0.68   \n",
      "2                 15.0                  54.0   0.9970  3.26       0.65   \n",
      "3                 17.0                  60.0   0.9980  3.16       0.58   \n",
      "4                 11.0                  34.0   0.9978  3.51       0.56   \n",
      "\n",
      "   alcohol  quality  \n",
      "0      9.4        5  \n",
      "1      9.8        5  \n",
      "2      9.8        5  \n",
      "3      9.8        6  \n",
      "4      9.4        5  \n"
     ]
    }
   ],
   "source": [
    "import pandas as pd\n",
    "import numpy as np\n",
    "import os\n",
    "\n",
    "filepath=\"C:\\\\Users\\\\ma\\\\Desktop\\\\唐宇迪-机器学习课程\\\\winequality-red.csv\"\n",
    "pwd=os.getcwd()\n",
    "os.chdir(os.path.dirname(filepath))\n",
    "df = pd.read_csv(os.path.basename(filepath),sep=';')\n",
    "print(df.head(5))"
   ]
  },
  {
   "cell_type": "markdown",
   "metadata": {},
   "source": [
    "## 标准化用sklearn库的preprocessing.StandardScaler()方法"
   ]
  },
  {
   "cell_type": "markdown",
   "metadata": {},
   "source": [
    "## 归一化用sklearn库的preprocessing.MinMaxScaler()方法"
   ]
  },
  {
   "cell_type": "code",
   "execution_count": 22,
   "metadata": {
    "collapsed": true
   },
   "outputs": [],
   "source": [
    "from sklearn import preprocessing\n",
    "\n",
    "std_scale=preprocessing.StandardScaler().fit(df[[\"alcohol\",\"fixed acidity\"]])\n",
    "df_std=std_scale.transform(df[[\"alcohol\",\"fixed acidity\"]])\n",
    "\n",
    "minmax_scale=preprocessing.MinMaxScaler().fit(df[[\"alcohol\",\"fixed acidity\"]])\n",
    "df_minmax=minmax_scale.transform(df[[\"alcohol\",\"fixed acidity\"]])"
   ]
  },
  {
   "cell_type": "markdown",
   "metadata": {},
   "source": [
    "## 标准化后数据的均值为0，方差为1"
   ]
  },
  {
   "cell_type": "code",
   "execution_count": 23,
   "metadata": {},
   "outputs": [
    {
     "name": "stdout",
     "output_type": "stream",
     "text": [
      "Mean after standardization:\n",
      "Alcohol=0.00,fixed acidity=0.00\n",
      "Standard deviation after standardization:\n",
      "Alcohol=1.00,fixed acidity=1.00\n"
     ]
    }
   ],
   "source": [
    "print(\"Mean after standardization:\\nAlcohol={:.2f},fixed acidity={:.2f}\"\n",
    "      .format(df_std[:,0].mean(),df_std[:,1].mean()))\n",
    "print(\"Standard deviation after standardization:\\nAlcohol={:.2f},fixed acidity={:.2f}\"\n",
    "      .format(df_std[:,0].std(),df_std[:,1].std()))"
   ]
  },
  {
   "cell_type": "markdown",
   "metadata": {},
   "source": [
    "## 归一化后数据的最小值为0，最大值为1"
   ]
  },
  {
   "cell_type": "code",
   "execution_count": 24,
   "metadata": {},
   "outputs": [
    {
     "name": "stdout",
     "output_type": "stream",
     "text": [
      "Min-value after min-max scaling:\n",
      "Alcohol=0.00,fixed acidity=0.00\n",
      "Max-value after min-max scaling:\n",
      "Alcohol=1.00,fixed acidity=1.00\n"
     ]
    }
   ],
   "source": [
    "print(\"Min-value after min-max scaling:\\nAlcohol={:.2f},fixed acidity={:.2f}\"\n",
    "      .format(df_minmax[:,0].min(),df_minmax[:,1].min()))\n",
    "print(\"Max-value after min-max scaling:\\nAlcohol={:.2f},fixed acidity={:.2f}\"\n",
    "      .format(df_minmax[:,0].max(),df_minmax[:,1].max()))"
   ]
  },
  {
   "cell_type": "markdown",
   "metadata": {},
   "source": [
    "## Plotting"
   ]
  },
  {
   "cell_type": "code",
   "execution_count": 25,
   "metadata": {
    "collapsed": true
   },
   "outputs": [],
   "source": [
    "%matplotlib inline"
   ]
  },
  {
   "cell_type": "code",
   "execution_count": 26,
   "metadata": {},
   "outputs": [
    {
     "data": {
      "image/png": "[encoded data removed]",
      "text/plain": [
       "<matplotlib.figure.Figure at 0xbc42978>"
      ]
     },
     "metadata": {},
     "output_type": "display_data"
    }
   ],
   "source": [
    "from matplotlib import pyplot as plt\n",
    "\n",
    "def plot():\n",
    "    plt.figure(figsize=(8,6))\n",
    "    \n",
    "    plt.scatter(df[\"alcohol\"],df[\"fixed acidity\"],\n",
    "               color=\"green\",label=\"input scale\",alpha=0.5)\n",
    "    \n",
    "    plt.scatter(df_std[:,0],df_std[:,1],\n",
    "               color=\"red\",label=\"standardised[$N (\\mu=0,\\sigma=1)$]\",alpha=0.3)\n",
    "    \n",
    "    plt.scatter(df_minmax[:,0],df_minmax[:,1],\n",
    "               color=\"blue\",label=\"min-max scale[min=0,max=1]\",alpha=0.3)\n",
    "    \n",
    "    plt.title(\"alcohol and fixed acidity content of the wine dataset\")\n",
    "    plt.xlabel(\"alcohol\")\n",
    "    plt.ylabel(\"fixed acidity\")\n",
    "    plt.legend(loc=\"upper left\")\n",
    "    plt.grid()\n",
    "    \n",
    "plot()\n",
    "plt.show()"
   ]
  },
  {
   "cell_type": "code",
   "execution_count": null,
   "metadata": {
    "collapsed": true
   },
   "outputs": [],
   "source": []
  }
 ],
 "metadata": {
  "kernelspec": {
   "display_name": "Python 3",
   "language": "python",
   "name": "python3"
  },
  "language_info": {
   "codemirror_mode": {
    "name": "ipython",
    "version": 3
   },
   "file_extension": ".py",
   "mimetype": "text/x-python",
   "name": "python",
   "nbconvert_exporter": "python",
   "pygments_lexer": "ipython3",
   "version": "3.6.3"
  }
 },
 "nbformat": 4,
 "nbformat_minor": 2
}
