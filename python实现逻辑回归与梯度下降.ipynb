{
 "cells": [
  {
   "cell_type": "markdown",
   "metadata": {},
   "source": [
    "# 逻辑回归(Logistic Regression)"
   ]
  },
  {
   "cell_type": "markdown",
   "metadata": {},
   "source": [
    "## 目标：建立分类器（求解出三个参数Θ0、Θ1、Θ2）\n",
    "## 设定阈值，根据阈值判断录取结果"
   ]
  },
  {
   "cell_type": "code",
   "execution_count": 5,
   "metadata": {},
   "outputs": [
    {
     "name": "stdout",
     "output_type": "stream",
     "text": [
      "       Exam1      Exam2  Admitted\n",
      "0  71.473170  18.577861         0\n",
      "1  51.377207  57.218745         0\n",
      "2  33.842663  38.711758         0\n",
      "------------------------------\n",
      "(70, 3)\n"
     ]
    }
   ],
   "source": [
    "import numpy as np\n",
    "import pandas as pd\n",
    "import matplotlib.pyplot as plt\n",
    "%matplotlib inline\n",
    "import os\n",
    "\n",
    "data=pd.read_excel(\"C:\\\\Users\\\\ma\\\\Desktop\\\\唐宇迪-机器学习课程\\\\LogiReg_data.xlsx\",header=None,names=[\"Exam1\",\"Exam2\",\"Admitted\"])\n",
    "print(data.head(3))\n",
    "print(\"--\"*15)\n",
    "print(data.shape)"
   ]
  },
  {
   "cell_type": "code",
   "execution_count": 6,
   "metadata": {},
   "outputs": [
    {
     "data": {
      "text/plain": [
       "<matplotlib.text.Text at 0x9833e80>"
      ]
     },
     "execution_count": 6,
     "metadata": {},
     "output_type": "execute_result"
    },
    {
     "data": {
      "image/png": "[encoded data removed]",
      "text/plain": [
       "<matplotlib.figure.Figure at 0x97eb1d0>"
      ]
     },
     "metadata": {},
     "output_type": "display_data"
    }
   ],
   "source": [
    "positive=data[data[\"Admitted\"]==1]\n",
    "negative=data[data[\"Admitted\"]==0]\n",
    "\n",
    "fig,ax=plt.subplots(figsize=(10,5))\n",
    "ax.scatter(positive[\"Exam1\"],positive[\"Exam2\"],c=\"b\",marker=\"o\",label=\"Admitted\")\n",
    "ax.scatter(negative[\"Exam1\"],negative[\"Exam2\"],c=\"r\",marker=\"x\",label=\"Not Admitted\")\n",
    "ax.legend()\n",
    "ax.set_xlabel(\"Exam1 Score\")\n",
    "ax.set_ylabel(\"Exam2 Score\")"
   ]
  },
  {
   "cell_type": "markdown",
   "metadata": {},
   "source": [
    "# 要完成的模块\n",
    "###        sigmoid:映射到概率的函数\n",
    "###        model:返回预测结果值\n",
    "###        cost:根据参数计算损失\n",
    "###        gradient:计算每个参数的梯度方向\n",
    "###        descent:进行参数更新\n",
    "###        accuracy:计算精度"
   ]
  },
  {
   "cell_type": "markdown",
   "metadata": {},
   "source": [
    "# sigmoid函数"
   ]
  },
  {
   "cell_type": "markdown",
   "metadata": {},
   "source": [
    "### g:R->[0,1]\n",
    "### g(0)=0.5"
   ]
  },
  {
   "cell_type": "code",
   "execution_count": 7,
   "metadata": {
    "collapsed": true
   },
   "outputs": [],
   "source": [
    "def sigmoid(z):\n",
    "    return 1/(1+np.exp(-z))"
   ]
  },
  {
   "cell_type": "code",
   "execution_count": 8,
   "metadata": {},
   "outputs": [
    {
     "data": {
      "text/plain": [
       "[<matplotlib.lines.Line2D at 0x9c41ac8>]"
      ]
     },
     "execution_count": 8,
     "metadata": {},
     "output_type": "execute_result"
    },
    {
     "data": {
      "image/png": "[encoded data removed]",
      "text/plain": [
       "<matplotlib.figure.Figure at 0x97ebc18>"
      ]
     },
     "metadata": {},
     "output_type": "display_data"
    }
   ],
   "source": [
    "nums=np.arange(-10,10,step=1)\n",
    "fig,ax=plt.subplots(figsize=(12,4))\n",
    "ax.plot(nums,sigmoid(nums),\"r\")"
   ]
  },
  {
   "cell_type": "markdown",
   "metadata": {},
   "source": [
    "## 预测函数model"
   ]
  },
  {
   "cell_type": "code",
   "execution_count": 9,
   "metadata": {
    "collapsed": true
   },
   "outputs": [],
   "source": [
    "def model(X,theta):\n",
    "    return sigmoid(np.dot(X,theta.T))"
   ]
  },
  {
   "cell_type": "markdown",
   "metadata": {},
   "source": [
    "### 添加一列，值全为1"
   ]
  },
  {
   "cell_type": "code",
   "execution_count": 10,
   "metadata": {},
   "outputs": [
    {
     "name": "stdout",
     "output_type": "stream",
     "text": [
      "(70, 3)\n",
      "4\n"
     ]
    }
   ],
   "source": [
    "print(data.shape)\n",
    "b=np.ones((70,1))\n",
    "data=np.c_[b,data]\n",
    "#convert the pandas representation of the data to an array useful for further \n",
    "\n",
    "cols=data.shape[1]\n",
    "print(cols)\n",
    "X=data[:,0:cols-1]\n",
    "y=data[:,cols-1:cols]\n",
    "theta=np.zeros([1,3])"
   ]
  },
  {
   "cell_type": "code",
   "execution_count": 11,
   "metadata": {},
   "outputs": [
    {
     "data": {
      "text/plain": [
       "array([[  1.        ,  71.47316975,  18.57786122],\n",
       "       [  1.        ,  51.37720697,  57.21874458],\n",
       "       [  1.        ,  33.84266315,  38.71175769],\n",
       "       [  1.        ,  46.63218054,  33.51295935],\n",
       "       [  1.        ,  24.20302038,  55.85104737]])"
      ]
     },
     "execution_count": 11,
     "metadata": {},
     "output_type": "execute_result"
    }
   ],
   "source": [
    "X[:5]"
   ]
  },
  {
   "cell_type": "code",
   "execution_count": 12,
   "metadata": {},
   "outputs": [
    {
     "data": {
      "text/plain": [
       "array([[ 0.],\n",
       "       [ 0.],\n",
       "       [ 0.],\n",
       "       [ 0.],\n",
       "       [ 0.]])"
      ]
     },
     "execution_count": 12,
     "metadata": {},
     "output_type": "execute_result"
    }
   ],
   "source": [
    "y[:5]"
   ]
  },
  {
   "cell_type": "code",
   "execution_count": 13,
   "metadata": {},
   "outputs": [
    {
     "data": {
      "text/plain": [
       "array([[ 0.,  0.,  0.]])"
      ]
     },
     "execution_count": 13,
     "metadata": {},
     "output_type": "execute_result"
    }
   ],
   "source": [
    "theta"
   ]
  },
  {
   "cell_type": "code",
   "execution_count": 14,
   "metadata": {},
   "outputs": [
    {
     "data": {
      "text/plain": [
       "((70, 3), (70, 1), (1, 3))"
      ]
     },
     "execution_count": 14,
     "metadata": {},
     "output_type": "execute_result"
    }
   ],
   "source": [
    "X.shape,y.shape,theta.shape"
   ]
  },
  {
   "cell_type": "markdown",
   "metadata": {},
   "source": [
    "# 损失函数cost"
   ]
  },
  {
   "cell_type": "code",
   "execution_count": 15,
   "metadata": {
    "collapsed": true
   },
   "outputs": [],
   "source": [
    "def cost(X,y,theta):\n",
    "    left=np.multiply(-y,np.log(model(X,theta)))\n",
    "    right=np.multiply(1-y,np.log(1-model(X,theta)))\n",
    "    return np.sum(left-right)/(len(X))"
   ]
  },
  {
   "cell_type": "code",
   "execution_count": 16,
   "metadata": {},
   "outputs": [
    {
     "data": {
      "text/plain": [
       "0.6931471805599454"
      ]
     },
     "execution_count": 16,
     "metadata": {},
     "output_type": "execute_result"
    }
   ],
   "source": [
    "cost(X,y,theta)"
   ]
  },
  {
   "cell_type": "markdown",
   "metadata": {},
   "source": [
    "## 计算梯度"
   ]
  },
  {
   "cell_type": "code",
   "execution_count": 17,
   "metadata": {
    "collapsed": true
   },
   "outputs": [],
   "source": [
    "def gradient(X,y,theta):\n",
    "    grad=np.zeros(theta.shape)\n",
    "    error=(model(X,theta)-y).ravel()\n",
    "    for j in range(len(theta.ravel())):\n",
    "        term=np.multiply(error,X[:,j])\n",
    "        grad[0,1]=np.sum(term)/len(X)\n",
    "        \n",
    "    return grad"
   ]
  },
  {
   "cell_type": "markdown",
   "metadata": {},
   "source": [
    "# Gradient descent"
   ]
  },
  {
   "cell_type": "markdown",
   "metadata": {},
   "source": [
    "### 比较三种不同梯度下降方法"
   ]
  },
  {
   "cell_type": "code",
   "execution_count": 18,
   "metadata": {
    "collapsed": true
   },
   "outputs": [],
   "source": [
    "STOP_ITER=0\n",
    "STOP_COST=1\n",
    "STOP_GRAD=2\n",
    "\n",
    "def stopCriterion(type,value,threshold):\n",
    "    #设定三种不同的停止策略\n",
    "    if type==STOP_ITER: return value>threshold\n",
    "    elif type==STOP_COST: return abs(value[-1]-value[-2])<threshold\n",
    "    elif type==STOP_GRAD: return np.linalg.norm(value)<threshold"
   ]
  },
  {
   "cell_type": "markdown",
   "metadata": {},
   "source": [
    "### 洗牌 numpy的shuffle"
   ]
  },
  {
   "cell_type": "code",
   "execution_count": 19,
   "metadata": {
    "collapsed": true
   },
   "outputs": [],
   "source": [
    "import numpy.random\n",
    "def shuffledata(data):\n",
    "    np.random.shuffle(data)\n",
    "    cols=data.shape[1]\n",
    "    X=data[:,0:cols-1]\n",
    "    y=data[:,cols-1:cols]\n",
    "    return X,y"
   ]
  },
  {
   "cell_type": "code",
   "execution_count": 20,
   "metadata": {
    "collapsed": true
   },
   "outputs": [],
   "source": [
    "import time\n",
    "\n",
    "def descent(data,theta,batchsize,stoptype,thresh,alpha):\n",
    "    #梯度下降求解\n",
    "    \n",
    "    init_time=time.time()\n",
    "    i=0   #迭代次数\n",
    "    k=0   #batch\n",
    "    X,y=shuffledata(data)\n",
    "    grad=np.zeros(theta.shape)    #计算的梯度\n",
    "    costs=[cost(X,y,theta)]\n",
    "    \n",
    "    while True:\n",
    "        grad=gradient(X[k:k+batchsize],y[k:k+batchsize],theta)\n",
    "        k+=batchsize    #取batchsize数量个数据\n",
    "        if k>=n:\n",
    "            k=0\n",
    "            X,y=shuffledata(data)    #重新洗牌\n",
    "        theta=theta-alpha*grad       #参数更新\n",
    "        costs.append(cost(X,y,theta))   #计算新的损失\n",
    "        i+=1\n",
    "        \n",
    "        if stoptype==STOP_ITER:      value=1\n",
    "        elif stoptype==STOP_COST:    value=costs\n",
    "        elif stoptype==STOP_GRAD:    value=grad\n",
    "        if stopCriterion(stoptype,value,thresh):   break\n",
    "        \n",
    "    return theta,i-1,costs,grad,time.time()-init_time"
   ]
  },
  {
   "cell_type": "code",
   "execution_count": 21,
   "metadata": {
    "collapsed": true
   },
   "outputs": [],
   "source": [
    "def runExpe(data,theta,batchsize,stoptype,thresh,alpha):\n",
    "    theta,Iter,costs,grad,dur=descent(data,theta,batchsize,stoptype,thresh,alpha)\n",
    "    name=\"Original\" if (data[:,1]>2).sum()>1 else \"Scaled\"\n",
    "    name+=\"data-learning rate:{}-\".format(alpha)\n",
    "    if batchsize==n:  strDescType=\"Gradient\"\n",
    "    elif batchsize==1: strDescType=\"Stochastic\"\n",
    "    else:  strDescType=\"Mini-batch({})\".format(batchsize)\n",
    "    name+=strDescType+\"descent-Stop:\"\n",
    "    if stoptype==STOP_ITER: strstop=\"{}iterrations\".format(thresh)\n",
    "    elif stoptype==STOP_COST: strstop=\"costs change<{}\".format(thresh)\n",
    "    else:  strstop=\"gradient norm<{}\".format(thresh)\n",
    "    name+=strstop\n",
    "    print(\"***{}\\nTheta:{}-Iter:{}-last cost:{:03.2f}-duration:{:03.2f}\".format(\n",
    "        name,theta,Iter,costs[-1],dur))\n",
    "    fig,ax=plt.subplots(figsize=(12,4))\n",
    "    ax.plot(np.arange(len(costs)),costs,\"r\")\n",
    "    ax.set_xlabel(\"iterations\")\n",
    "    ax.set_ylabel(\"cost\")\n",
    "    ax.set_title(name.upper()+\"-Error vs iteration\")\n",
    "    return theta"
   ]
  },
  {
   "cell_type": "markdown",
   "metadata": {},
   "source": [
    "### 不同的停止策略"
   ]
  },
  {
   "cell_type": "markdown",
   "metadata": {},
   "source": [
    "### 设定迭代次数"
   ]
  },
  {
   "cell_type": "code",
   "execution_count": null,
   "metadata": {},
   "outputs": [],
   "source": [
    "#选择的梯度下降方法是基于所有样本的\n",
    "n=70\n",
    "runExpe(data,theta,n,STOP_ITER,thresh=5000,alpha=0.000001)"
   ]
  },
  {
   "cell_type": "markdown",
   "metadata": {
    "collapsed": true
   },
   "source": [
    "### 根据损失值停止"
   ]
  },
  {
   "cell_type": "markdown",
   "metadata": {},
   "source": [
    "### 设定阈值1E-6，差不多需要110000次迭代"
   ]
  },
  {
   "cell_type": "code",
   "execution_count": null,
   "metadata": {
    "collapsed": true
   },
   "outputs": [],
   "source": [
    "runExpe(data,theta,n,STOP_COST,thresh=0.000001,alpha=0.001)"
   ]
  },
  {
   "cell_type": "code",
   "execution_count": null,
   "metadata": {
    "collapsed": true
   },
   "outputs": [],
   "source": []
  }
 ],
 "metadata": {
  "kernelspec": {
   "display_name": "Python 3",
   "language": "python",
   "name": "python3"
  },
  "language_info": {
   "codemirror_mode": {
    "name": "ipython",
    "version": 3
   },
   "file_extension": ".py",
   "mimetype": "text/x-python",
   "name": "python",
   "nbconvert_exporter": "python",
   "pygments_lexer": "ipython3",
   "version": "3.6.3"
  }
 },
 "nbformat": 4,
 "nbformat_minor": 2
}
